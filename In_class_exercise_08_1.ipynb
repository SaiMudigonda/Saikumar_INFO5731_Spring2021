{
  "nbformat": 4,
  "nbformat_minor": 0,
  "metadata": {
    "kernelspec": {
      "display_name": "Python 3",
      "language": "python",
      "name": "python3"
    },
    "language_info": {
      "codemirror_mode": {
        "name": "ipython",
        "version": 3
      },
      "file_extension": ".py",
      "mimetype": "text/x-python",
      "name": "python",
      "nbconvert_exporter": "python",
      "pygments_lexer": "ipython3",
      "version": "3.8.5"
    },
    "colab": {
      "name": "In_class_exercise_08-1.ipynb",
      "provenance": [],
      "include_colab_link": true
    }
  },
  "cells": [
    {
      "cell_type": "markdown",
      "metadata": {
        "id": "view-in-github",
        "colab_type": "text"
      },
      "source": [
        "<a href=\"https://colab.research.google.com/github/SaiMudigonda/Saikumar_INFO5731_Spring2021/blob/main/In_class_exercise_08_1.ipynb\" target=\"_parent\"><img src=\"https://colab.research.google.com/assets/colab-badge.svg\" alt=\"Open In Colab\"/></a>"
      ]
    },
    {
      "cell_type": "markdown",
      "metadata": {
        "id": "hwlx4Gp0vqPv"
      },
      "source": [
        "# **The eighth in-class-exercise (20 points in total, 3/30/2021)**"
      ]
    },
    {
      "cell_type": "markdown",
      "metadata": {
        "id": "rP8EWZDdvqP4"
      },
      "source": [
        "The data for this exercise is from the dataset you created from assignment three. Please perform answer the following questions based on your data:"
      ]
    },
    {
      "cell_type": "markdown",
      "metadata": {
        "id": "mGLxMJatvqP6"
      },
      "source": [
        "## (1) (10 points) Write a python program to extract the sentiment related terms from the corpus. You may use python package such as polyglot or external lexicon resources in the question. Rank the sentiment related terms by frequency."
      ]
    },
    {
      "cell_type": "code",
      "metadata": {
        "colab": {
          "base_uri": "https://localhost:8080/"
        },
        "id": "72pWcB1V3e0O",
        "outputId": "4155ada6-eefd-4102-c576-8be420ccf0c7"
      },
      "source": [
        "# Pre-processing\n",
        "from nltk.corpus import stopwords\n",
        "import nltk\n",
        "nltk.download('stopwords')\n",
        "import re\n",
        "from textblob import TextBlob\n",
        "from textblob import Word\n",
        "nltk.download('wordnet')"
      ],
      "execution_count": 3,
      "outputs": [
        {
          "output_type": "stream",
          "text": [
            "[nltk_data] Downloading package stopwords to /root/nltk_data...\n",
            "[nltk_data]   Package stopwords is already up-to-date!\n",
            "[nltk_data] Downloading package wordnet to /root/nltk_data...\n",
            "[nltk_data]   Package wordnet is already up-to-date!\n"
          ],
          "name": "stdout"
        },
        {
          "output_type": "execute_result",
          "data": {
            "text/plain": [
              "True"
            ]
          },
          "metadata": {
            "tags": []
          },
          "execution_count": 3
        }
      ]
    },
    {
      "cell_type": "code",
      "metadata": {
        "colab": {
          "base_uri": "https://localhost:8080/",
          "height": 402
        },
        "id": "swfZKP_m3rbK",
        "outputId": "2b37e9ee-a937-4cf5-e1d4-56fd2d10b3ba"
      },
      "source": [
        "import pandas as pd\n",
        "df = pd.read_csv('https://raw.githubusercontent.com/SaiMudigonda/Saikumar_INFO5731_Spring2021/main/Reviews%20for%20Sentiment%20Analysis.csv', encoding='latin-1')\n",
        "df"
      ],
      "execution_count": 4,
      "outputs": [
        {
          "output_type": "execute_result",
          "data": {
            "text/html": [
              "<div>\n",
              "<style scoped>\n",
              "    .dataframe tbody tr th:only-of-type {\n",
              "        vertical-align: middle;\n",
              "    }\n",
              "\n",
              "    .dataframe tbody tr th {\n",
              "        vertical-align: top;\n",
              "    }\n",
              "\n",
              "    .dataframe thead th {\n",
              "        text-align: right;\n",
              "    }\n",
              "</style>\n",
              "<table border=\"1\" class=\"dataframe\">\n",
              "  <thead>\n",
              "    <tr style=\"text-align: right;\">\n",
              "      <th></th>\n",
              "      <th>Document_ID</th>\n",
              "      <th>Cleaned Data</th>\n",
              "      <th>Sentiment</th>\n",
              "    </tr>\n",
              "  </thead>\n",
              "  <tbody>\n",
              "    <tr>\n",
              "      <th>0</th>\n",
              "      <td>Review 1</td>\n",
              "      <td>Every once in a while a movie comes, that trul...</td>\n",
              "      <td>Positive</td>\n",
              "    </tr>\n",
              "    <tr>\n",
              "      <th>1</th>\n",
              "      <td>Review 2</td>\n",
              "      <td>This is a movie that only those who have felt ...</td>\n",
              "      <td>Positive</td>\n",
              "    </tr>\n",
              "    <tr>\n",
              "      <th>2</th>\n",
              "      <td>Review 3</td>\n",
              "      <td>Truly a masterpiece, The Best Hollywood film o...</td>\n",
              "      <td>Positive</td>\n",
              "    </tr>\n",
              "    <tr>\n",
              "      <th>3</th>\n",
              "      <td>Review 4</td>\n",
              "      <td>Joaquin Phoenix gives a tour de force performa...</td>\n",
              "      <td>Neutral</td>\n",
              "    </tr>\n",
              "    <tr>\n",
              "      <th>4</th>\n",
              "      <td>Review 5</td>\n",
              "      <td>Most of the time movies are anticipated like t...</td>\n",
              "      <td>Negative</td>\n",
              "    </tr>\n",
              "    <tr>\n",
              "      <th>...</th>\n",
              "      <td>...</td>\n",
              "      <td>...</td>\n",
              "      <td>...</td>\n",
              "    </tr>\n",
              "    <tr>\n",
              "      <th>103</th>\n",
              "      <td>Review 104</td>\n",
              "      <td>Truly a masterpiece, The Best Hollywood film o...</td>\n",
              "      <td>Positive</td>\n",
              "    </tr>\n",
              "    <tr>\n",
              "      <th>104</th>\n",
              "      <td>Review 105</td>\n",
              "      <td>The acting, cinematography, sound design and t...</td>\n",
              "      <td>Positive</td>\n",
              "    </tr>\n",
              "    <tr>\n",
              "      <th>105</th>\n",
              "      <td>Review 106</td>\n",
              "      <td>If you plan on watching this I would suggest s...</td>\n",
              "      <td>Negative</td>\n",
              "    </tr>\n",
              "    <tr>\n",
              "      <th>106</th>\n",
              "      <td>Review 107</td>\n",
              "      <td>If it wasn't for the title and make-up, you wo...</td>\n",
              "      <td>Positive</td>\n",
              "    </tr>\n",
              "    <tr>\n",
              "      <th>107</th>\n",
              "      <td>Review 108</td>\n",
              "      <td>Wow, what a movie! I have to admit, When I fir...</td>\n",
              "      <td>Positive</td>\n",
              "    </tr>\n",
              "  </tbody>\n",
              "</table>\n",
              "<p>108 rows × 3 columns</p>\n",
              "</div>"
            ],
            "text/plain": [
              "    Document_ID                                       Cleaned Data Sentiment\n",
              "0      Review 1  Every once in a while a movie comes, that trul...  Positive\n",
              "1      Review 2  This is a movie that only those who have felt ...  Positive\n",
              "2      Review 3  Truly a masterpiece, The Best Hollywood film o...  Positive\n",
              "3      Review 4  Joaquin Phoenix gives a tour de force performa...   Neutral\n",
              "4      Review 5  Most of the time movies are anticipated like t...  Negative\n",
              "..          ...                                                ...       ...\n",
              "103  Review 104  Truly a masterpiece, The Best Hollywood film o...  Positive\n",
              "104  Review 105  The acting, cinematography, sound design and t...  Positive\n",
              "105  Review 106  If you plan on watching this I would suggest s...  Negative\n",
              "106  Review 107  If it wasn't for the title and make-up, you wo...  Positive\n",
              "107  Review 108  Wow, what a movie! I have to admit, When I fir...  Positive\n",
              "\n",
              "[108 rows x 3 columns]"
            ]
          },
          "metadata": {
            "tags": []
          },
          "execution_count": 4
        }
      ]
    },
    {
      "cell_type": "code",
      "metadata": {
        "colab": {
          "base_uri": "https://localhost:8080/",
          "height": 687
        },
        "id": "ew19bMP03_Qn",
        "outputId": "db17f5ff-79a5-4d36-b5ab-86f825621c6e"
      },
      "source": [
        "# Special characters removal\n",
        "df['After noise removal'] = df['Cleaned Data'].apply(lambda x: ''.join(re.sub(r\"[^a-zA-Z0-9]+\", ' ', charctr) for charctr in x ))\n",
        "# Punctuation removal\n",
        "df['Punctuation removal'] = df['After noise removal'].str.replace('[^\\w\\s]','')\n",
        "# Remove numbers\n",
        "df['Remove numbers'] = df['Punctuation removal'].str.replace('\\d+', '')\n",
        "# Stopwords removal\n",
        "stop_word = stopwords.words('english')\n",
        "df['Stopwords removal'] = df['Remove numbers'].apply(lambda x: \" \".join(x for x in x.split() if x not in stop_word))\n",
        "# Lower Casing\n",
        "df['Lower casing'] = df['Stopwords removal'].apply(lambda x: \" \".join(x.lower() for x in x.split()))\n",
        "# Lemmatization\n",
        "df['Lemmatization'] = df['Lower casing'].apply(lambda x: \" \".join([Word(word).lemmatize() for word in x.split()]))\n",
        "df"
      ],
      "execution_count": 7,
      "outputs": [
        {
          "output_type": "execute_result",
          "data": {
            "text/html": [
              "<div>\n",
              "<style scoped>\n",
              "    .dataframe tbody tr th:only-of-type {\n",
              "        vertical-align: middle;\n",
              "    }\n",
              "\n",
              "    .dataframe tbody tr th {\n",
              "        vertical-align: top;\n",
              "    }\n",
              "\n",
              "    .dataframe thead th {\n",
              "        text-align: right;\n",
              "    }\n",
              "</style>\n",
              "<table border=\"1\" class=\"dataframe\">\n",
              "  <thead>\n",
              "    <tr style=\"text-align: right;\">\n",
              "      <th></th>\n",
              "      <th>Document_ID</th>\n",
              "      <th>Cleaned Data</th>\n",
              "      <th>Sentiment</th>\n",
              "      <th>After noise removal</th>\n",
              "      <th>Punctuation removal</th>\n",
              "      <th>Remove numbers</th>\n",
              "      <th>Stopwords removal</th>\n",
              "      <th>Lower casing</th>\n",
              "      <th>Lemmatization</th>\n",
              "    </tr>\n",
              "  </thead>\n",
              "  <tbody>\n",
              "    <tr>\n",
              "      <th>0</th>\n",
              "      <td>Review 1</td>\n",
              "      <td>Every once in a while a movie comes, that trul...</td>\n",
              "      <td>Positive</td>\n",
              "      <td>Every once in a while a movie comes  that trul...</td>\n",
              "      <td>Every once in a while a movie comes  that trul...</td>\n",
              "      <td>Every once in a while a movie comes  that trul...</td>\n",
              "      <td>Every movie comes truly makes impact Joaquin p...</td>\n",
              "      <td>every movie comes truly makes impact joaquin p...</td>\n",
              "      <td>every movie come truly make impact joaquin per...</td>\n",
              "    </tr>\n",
              "    <tr>\n",
              "      <th>1</th>\n",
              "      <td>Review 2</td>\n",
              "      <td>This is a movie that only those who have felt ...</td>\n",
              "      <td>Positive</td>\n",
              "      <td>This is a movie that only those who have felt ...</td>\n",
              "      <td>This is a movie that only those who have felt ...</td>\n",
              "      <td>This is a movie that only those who have felt ...</td>\n",
              "      <td>This movie felt alone isolated truly relate Yo...</td>\n",
              "      <td>this movie felt alone isolated truly relate yo...</td>\n",
              "      <td>this movie felt alone isolated truly relate yo...</td>\n",
              "    </tr>\n",
              "    <tr>\n",
              "      <th>2</th>\n",
              "      <td>Review 3</td>\n",
              "      <td>Truly a masterpiece, The Best Hollywood film o...</td>\n",
              "      <td>Positive</td>\n",
              "      <td>Truly a masterpiece  The Best Hollywood film o...</td>\n",
              "      <td>Truly a masterpiece  The Best Hollywood film o...</td>\n",
              "      <td>Truly a masterpiece  The Best Hollywood film o...</td>\n",
              "      <td>Truly masterpiece The Best Hollywood film one ...</td>\n",
              "      <td>truly masterpiece the best hollywood film one ...</td>\n",
              "      <td>truly masterpiece the best hollywood film one ...</td>\n",
              "    </tr>\n",
              "    <tr>\n",
              "      <th>3</th>\n",
              "      <td>Review 4</td>\n",
              "      <td>Joaquin Phoenix gives a tour de force performa...</td>\n",
              "      <td>Neutral</td>\n",
              "      <td>Joaquin Phoenix gives a tour de force performa...</td>\n",
              "      <td>Joaquin Phoenix gives a tour de force performa...</td>\n",
              "      <td>Joaquin Phoenix gives a tour de force performa...</td>\n",
              "      <td>Joaquin Phoenix gives tour de force performanc...</td>\n",
              "      <td>joaquin phoenix gives tour de force performanc...</td>\n",
              "      <td>joaquin phoenix give tour de force performance...</td>\n",
              "    </tr>\n",
              "    <tr>\n",
              "      <th>4</th>\n",
              "      <td>Review 5</td>\n",
              "      <td>Most of the time movies are anticipated like t...</td>\n",
              "      <td>Negative</td>\n",
              "      <td>Most of the time movies are anticipated like t...</td>\n",
              "      <td>Most of the time movies are anticipated like t...</td>\n",
              "      <td>Most of the time movies are anticipated like t...</td>\n",
              "      <td>Most time movies anticipated like end falling ...</td>\n",
              "      <td>most time movies anticipated like end falling ...</td>\n",
              "      <td>most time movie anticipated like end falling s...</td>\n",
              "    </tr>\n",
              "    <tr>\n",
              "      <th>...</th>\n",
              "      <td>...</td>\n",
              "      <td>...</td>\n",
              "      <td>...</td>\n",
              "      <td>...</td>\n",
              "      <td>...</td>\n",
              "      <td>...</td>\n",
              "      <td>...</td>\n",
              "      <td>...</td>\n",
              "      <td>...</td>\n",
              "    </tr>\n",
              "    <tr>\n",
              "      <th>103</th>\n",
              "      <td>Review 104</td>\n",
              "      <td>Truly a masterpiece, The Best Hollywood film o...</td>\n",
              "      <td>Positive</td>\n",
              "      <td>Truly a masterpiece  The Best Hollywood film o...</td>\n",
              "      <td>Truly a masterpiece  The Best Hollywood film o...</td>\n",
              "      <td>Truly a masterpiece  The Best Hollywood film o...</td>\n",
              "      <td>Truly masterpiece The Best Hollywood film one ...</td>\n",
              "      <td>truly masterpiece the best hollywood film one ...</td>\n",
              "      <td>truly masterpiece the best hollywood film one ...</td>\n",
              "    </tr>\n",
              "    <tr>\n",
              "      <th>104</th>\n",
              "      <td>Review 105</td>\n",
              "      <td>The acting, cinematography, sound design and t...</td>\n",
              "      <td>Positive</td>\n",
              "      <td>The acting  cinematography  sound design and t...</td>\n",
              "      <td>The acting  cinematography  sound design and t...</td>\n",
              "      <td>The acting  cinematography  sound design and t...</td>\n",
              "      <td>The acting cinematography sound design script ...</td>\n",
              "      <td>the acting cinematography sound design script ...</td>\n",
              "      <td>the acting cinematography sound design script ...</td>\n",
              "    </tr>\n",
              "    <tr>\n",
              "      <th>105</th>\n",
              "      <td>Review 106</td>\n",
              "      <td>If you plan on watching this I would suggest s...</td>\n",
              "      <td>Negative</td>\n",
              "      <td>If you plan on watching this I would suggest s...</td>\n",
              "      <td>If you plan on watching this I would suggest s...</td>\n",
              "      <td>If you plan on watching this I would suggest s...</td>\n",
              "      <td>If plan watching I would suggest skipping last...</td>\n",
              "      <td>if plan watching i would suggest skipping last...</td>\n",
              "      <td>if plan watching i would suggest skipping last...</td>\n",
              "    </tr>\n",
              "    <tr>\n",
              "      <th>106</th>\n",
              "      <td>Review 107</td>\n",
              "      <td>If it wasn't for the title and make-up, you wo...</td>\n",
              "      <td>Positive</td>\n",
              "      <td>If it wasn t for the title and make up  you wo...</td>\n",
              "      <td>If it wasn t for the title and make up  you wo...</td>\n",
              "      <td>If it wasn t for the title and make up  you wo...</td>\n",
              "      <td>If title make know based comic book character ...</td>\n",
              "      <td>if title make know based comic book character ...</td>\n",
              "      <td>if title make know based comic book character ...</td>\n",
              "    </tr>\n",
              "    <tr>\n",
              "      <th>107</th>\n",
              "      <td>Review 108</td>\n",
              "      <td>Wow, what a movie! I have to admit, When I fir...</td>\n",
              "      <td>Positive</td>\n",
              "      <td>Wow  what a movie  I have to admit  When I fir...</td>\n",
              "      <td>Wow  what a movie  I have to admit  When I fir...</td>\n",
              "      <td>Wow  what a movie  I have to admit  When I fir...</td>\n",
              "      <td>Wow movie I admit When I first heard Joaquin P...</td>\n",
              "      <td>wow movie i admit when i first heard joaquin p...</td>\n",
              "      <td>wow movie i admit when i first heard joaquin p...</td>\n",
              "    </tr>\n",
              "  </tbody>\n",
              "</table>\n",
              "<p>108 rows × 9 columns</p>\n",
              "</div>"
            ],
            "text/plain": [
              "    Document_ID  ...                                      Lemmatization\n",
              "0      Review 1  ...  every movie come truly make impact joaquin per...\n",
              "1      Review 2  ...  this movie felt alone isolated truly relate yo...\n",
              "2      Review 3  ...  truly masterpiece the best hollywood film one ...\n",
              "3      Review 4  ...  joaquin phoenix give tour de force performance...\n",
              "4      Review 5  ...  most time movie anticipated like end falling s...\n",
              "..          ...  ...                                                ...\n",
              "103  Review 104  ...  truly masterpiece the best hollywood film one ...\n",
              "104  Review 105  ...  the acting cinematography sound design script ...\n",
              "105  Review 106  ...  if plan watching i would suggest skipping last...\n",
              "106  Review 107  ...  if title make know based comic book character ...\n",
              "107  Review 108  ...  wow movie i admit when i first heard joaquin p...\n",
              "\n",
              "[108 rows x 9 columns]"
            ]
          },
          "metadata": {
            "tags": []
          },
          "execution_count": 7
        }
      ]
    },
    {
      "cell_type": "code",
      "metadata": {
        "colab": {
          "base_uri": "https://localhost:8080/"
        },
        "id": "vEONFu5O4gBQ",
        "outputId": "b8596164-0073-4ed5-a2c9-bdbeae24677d"
      },
      "source": [
        "#Extarcting words related to Corpus\n",
        "from textblob import TextBlob\n",
        "from collections import Counter\n",
        "sentiment_text = []\n",
        "for i in df['Lemmatization']:\n",
        "  for term in i.split(' '):\n",
        "    if TextBlob(term).sentiment.polarity != 0:\n",
        "      sentiment_text.append(term)\n",
        "print(sentiment_text)\n",
        "word_count = Counter(sentiment_text)\n",
        "word_df = pd.DataFrame(list(word_count.most_common()), columns=['Terms', 'Freq'])\n",
        "word_df.index = list(range(1, len(word_count.most_common())+1))\n",
        "print(word_df)"
      ],
      "execution_count": 8,
      "outputs": [
        {
          "output_type": "stream",
          "text": [
            "['grotesque', 'hard', 'mesmerizing', 'tragic', 'seriously', 'funny', 'far', 'typical', 'action', 'predictable', 'super', 'single', 'best', 'sorry', 'better', 'best', 'best', 'best', 'comic', 'chillingly', 'real', 'remarkable', 'surprised', 'disturbing', 'violent', 'rich', 'talented', 'exaggerated', 'believable', 'much', 'bitter', 'first', 'perfect', 'stunning', 'impossible', 'winning', 'dark', 'widely', 'live', 'action', 'many', 'impossible', 'dark', 'most', 'first', 'happy', 'complaint', 'least', 'comic', 'real', 'better', 'criminal', 'dark', 'dark', 'love', 'bad', 'amazing', 'best', 'breathtaking', 'uncomfortable', 'horrible', 'great', 'much', 'honest', 'violent', 'disturbing', 'honestly', 'expected', 'violent', 'great', 'best', 'hate', 'enjoy', 'amazing', 'enjoy', 'early', 'ill', 'trouble', 'near', 'worth', 'far', 'mere', 'main', 'slowly', 'wonderful', 'surely', 'least', 'good', 'main', 'insane', 'insane', 'much', 'superior', 'dark', 'easily', 'good', 'least', 'small', 'distinct', 'appreciated', 'forced', 'notable', 'modern', 'far', 'best', 'worst', 'far', 'convincing', 'sad', 'compelling', 'confident', 'win', 'unpredictable', 'really', 'interesting', 'really', 'enjoy', 'best', 'dark', 'many', 'particularly', 'poor', 'usually', 'realistic', 'bad', 'usually', 'bad', 'important', 'certain', 'bad', 'suitable', 'adult', 'willing', 'light', 'good', 'able', 'best', 'painful', 'good', 'sound', 'phenomenal', 'win', 'masterful', 'single', 'awesome', 'comic', 'awesome', 'easy', 'unsettling', 'cruel', 'masterful', 'loose', 'comic', 'right', 'tremendous', 'high', 'wrong', 'skeptical', 'typical', 'super', 'whole', 'action', 'true', 'game', 'win', 'fair', 'good', 'amazing', 'good', 'really', 'good', 'purely', 'amazing', 'random', 'high', 'classic', 'decent', 'outstanding', 'best', 'common', 'good', 'much', 'really', 'sure', 'good', 'good', 'nice', 'intriguing', 'really', 'long', 'boring', 'really', 'crazy', 'becoming', 'sure', 'mean', 'evil', 'destroy', 'absolutely', 'intriguing', 'worthy', 'amazing', 'excited', 'hollow', 'empty', 'real', 'excellent', 'incredible', 'bland', 'dramatic', 'heavily', 'harsh', 'flat', 'good', 'phenomenal', 'great', 'incredible', 'great', 'empty', 'true', 'fluff', 'comic', 'best', 'pure', 'many', 'much', 'better', 'hate', 'near', 'intelligent', 'comic', 'better', 'behind', 'absolutely', 'highly', 'perfect', 'really', 'live', 'safe', 'little', 'first', 'new', 'exciting', 'best', 'comic', 'high', 'talented', 'mentally', 'ill', 'busy', 'uncomfortable', 'unfortunately', 'really', 'important', 'subject', 'usually', 'busy', 'forced', 'little', 'edgy', 'smile', 'hot', 'new', 'single', 'far', 'exact', 'many', 'impressed', 'completely', 'unnecessary', 'interesting', 'wrong', 'gratuitous', 'sound', 'great', 'sorry', 'half', 'dead', 'serious', 'mental', 'modern', 'intense', 'perfect', 'real', 'perfect', 'important', 'perfect', 'many', 'shocking', 'really', 'first', 'loved', 'long', 'bored', 'amazing', 'good', 'good', 'mad', 'many', 'many', 'average', 'boring', 'half', 'bored', 'confused', 'right', 'good', 'much', 'much', 'great', 'good', 'best', 'average', 'good', 'bad', 'higher', 'experienced', 'worse', 'hate', 'social', 'live', 'real', 'depressing', 'marvelously', 'entertaining', 'dark', 'lonely', 'brilliant', 'charming', 'dumb', 'depressing', 'insecure', 'dark', 'fun', 'great', 'action', 'miserable', 'insane', 'insane', 'love', 'real', 'awful', 'good', 'mentally', 'good', 'dark', 'super', 'perfect', 'flawlessly', 'impeccably', 'breathtaking', 'original', 'complex', 'superb', 'beautiful', 'many', 'able', 'full', 'psychotic', 'amazing', 'mean', 'high', 'brilliant', 'best', 'good', 'frustrated', 'amazing', 'brilliant', 'magnificent', 'safe', 'game', 'real', 'insanely', 'dark', 'disturbing', 'terrible', 'everyday', 'normally', 'greatest', 'dark', 'wise', 'better', 'greatest', 'dark', 'better', 'phenomenal', 'fortunate', 'greatest', 'top', 'best', 'original', 'loses', 'complete', 'liked', 'much', 'true', 'comic', 'flat', 'little', 'hated', 'worthy', 'enjoy', 'slow', 'crazy', 'slight', 'lame', 'right', 'mentally', 'iconic', 'grippingly', 'accurate', 'realistic', 'touching', 'dark', 'disturbing', 'worthy', 'really', 'bad', 'love', 'least', 'better', 'great', 'greater', 'great', 'great', 'brilliant', 'super', 'great', 'best', 'worthy', 'best', 'seriously', 'unbelievable', 'better', 'win', 'best', 'win', 'very', 'least', 'best', 'real', 'great', 'complete', 'accurate', 'comic', 'fresh', 'unique', 'realistic', 'amazing', 'real', 'early', 'comic', 'accurate', 'decent', 'true', 'original', 'lovable', 'great', 'interesting', 'believable', 'many', 'impressively', 'splendid', 'outstanding', 'main', 'positive', 'live', 'tough', 'full', 'positive', 'light', 'nice', 'positive', 'many', 'many', 'hard', 'action', 'many', 'hate', 'worse', 'action', 'action', 'clearly', 'intense', 'action', 'past', 'many', 'bad', 'boring', 'slow', 'first', 'good', 'bad', 'whole', 'far', 'greatest', 'far', 'best', 'completely', 'winning', 'effing', 'slow', 'whole', 'amazing', 'complete', 'deserving', 'perfect', 'perfect', 'pity', 'much', 'better', 'far', 'favorite', 'comic', 'completely', 'comic', 'action', 'really', 'wild', 'comic', 'waste', 'long', 'good', 'boring', 'incredible', 'troubled', 'directly', 'masterful', 'right', 'high', 'high', 'slow', 'first', 'dreadful', 'disappointed', 'mean', 'bad', 'bad', 'killed', 'more', 'stupid', 'brutal', 'boring', 'best', 'mental', 'mental', 'creative', 'seriously', 'much', 'wrong', 'artistic', 'success', 'witty', 'criminal', 'mental', 'mental', 'mental', 'laugh', 'seriously', 'much', 'positive', 'fairly', 'confident', 'large', 'juvenile', 'engaging', 'shallow', 'right', 'much', 'many', 'positive', 'firstly', 'little', 'interesting', 'high', 'dark', 'artistic', 'near', 'many', 'high', 'quick', 'long', 'completely', 'best', 'beautiful', 'crap', 'important', 'good', 'troubled', 'crap', 'right', 'far', 'better', 'wrong', 'extremely', 'really', 'extraordinary', 'excellent', 'boring', 'sure', 'disturbing', 'many', 'excellent', 'good', 'bad', 'absolutely', 'dark', 'action', 'action', 'action', 'best', 'long', 'good', 'creative', 'sure', 'amazing', 'far', 'great', 'more', 'boring', 'much', 'many', 'crazy', 'suffers', 'mental', 'love', 'sad', 'laugh', 'laugh', 'compelling', 'mean', 'sure', 'better', 'top', 'good', 'hardly', 'bad', 'great', 'typical', 'love', 'love', 'past', 'really', 'good', 'kind', 'mentally', 'loses', 'loose', 'difficult', 'really', 'good', 'many', 'kind', 'awfully', 'completely', 'liked', 'mean', 'mean', 'incredibly', 'terrible', 'slowly', 'completely', 'worth', 'round', 'good', 'action', 'crazy', 'many', 'realistic', 'sick', 'terrifying', 'gruesome', 'clear', 'mess', 'main', 'good', 'original', 'many', 'bad', 'slightly', 'original', 'slow', 'worth', 'moron', 'violent', 'justified', 'action', 'right', 'compelling', 'violent', 'violent', 'serious', 'complete', 'typical', 'action', 'wrong', 'better', 'dark', 'favorite', 'great', 'good', 'bad', 'ugly', 'inspiring', 'new', 'primarily', 'engaging', 'strongly', 'believable', 'mainly', 'dark', 'sound', 'shallow', 'rich', 'expressive', 'impressively', 'great', 'justified', 'easily', 'painful', 'supporting', 'worthy', 'believable', 'realistic', 'comic', 'extraordinary', 'high', 'young', 'adult', 'largely', 'directly', 'action', 'main', 'absolute', 'disappointment', 'good', 'stupid', 'action', 'best', 'mean', 'silly', 'happy', 'lucky', 'happy', 'dark', 'many', 'best', 'best', 'crap', 'profound', 'ridiculous', 'boring', 'much', 'worse', 'bad', 'apparently', 'mean', 'crap', 'huge', 'game', 'game', 'love', 'hate', 'intriguing', 'past', 'small', 'dark', 'bored', 'exactly', 'worse', 'pretty', 'dark', 'light', 'funny', 'wrong', 'worth', 'best', 'impressive', 'good', 'crap', 'usually', 'comic', 'first', 'great', 'good', 'best', 'love', 'amazing', 'highly', 'enjoyable', 'heavy', 'superb', 'happy', 'tremendous', 'extremely', 'difficult', 'mental', 'kind', 'good', 'horrible', 'dark', 'entertaining', 'love', 'dark', 'amazing', 'interesting', 'boring', 'beautiful', 'absolutely', 'amazingly', 'perfect', 'much', 'enjoyed', 'perfect', 'sound', 'enjoyed', 'much', 'best', 'dark', 'beautiful', 'dramatic', 'sad', 'scary', 'least', 'first', 'great', 'much', 'classic', 'best', 'win', 'true', 'smile', 'best', 'wrong', 'green', 'safe', 'good', 'favorite', 'right', 'base', 'many', 'expected', 'uncomfortable', 'bad', 'ok', 'wrong', 'broken', 'forced', 'important', 'really', 'bloody', 'intense', 'interesting', 'real', 'really', 'wrong', 'worst', 'ok', 'great', 'good', 'worth', 'great', 'least', 'waste', 'brilliant', 'kind', 'many', 'boring', 'modern', 'seriously', 'predictable', 'great', 'easy', 'good', 'dark', 'expected', 'much', 'slow', 'very', 'predictable', 'good', 'slow', 'poorly', 'unique', 'weak', 'live', 'outstanding', 'completely', 'exceptional', 'strong', 'impressive', 'brutal', 'love', 'brutally', 'rarely', 'violent', 'stunning', 'worthy', 'excellent', 'interesting', 'easily', 'successfully', 'whole', 'hollow', 'little', 'little', 'super', 'fails', 'suitable', 'dangerous', 'mentally', 'extreme', 'comic', 'accurate', 'irrelevant', 'genuinely', 'good', 'far', 'fails', 'poor', 'average', 'much', 'good', 'poor', 'first', 'lyric', 'hard', 'realistic', 'unnecessary', 'contrived', 'predictable', 'many', 'poor', 'dark', 'good', 'really', 'natural', 'really', 'average', 'best', 'dark', 'pretentious', 'good', 'smart', 'intelligent', 'main', 'action', 'liked', 'expensive', 'laugh', 'main', 'uncomfortable', 'cheap', 'many', 'pretentious', 'excellent', 'amazing', 'difficult', 'brilliant', 'real', 'past', 'brilliant', 'real', 'trouble', 'first', 'good', 'very', 'dark', 'disturbing', 'exactly', 'win', 'great', 'good', 'tiresome', 'failure', 'really', 'far', 'good', 'past', 'really', 'sour', 'lazy', 'long', 'crazily', 'boring', 'twisted', 'sick', 'crap', 'really', 'really', 'much', 'random', 'uninspired', 'painful', 'cruel', 'better', 'better', 'excellent', 'ill', 'much', 'better', 'forced', 'good', 'pretty', 'good', 'absolutely', 'awful', 'hard', 'relevant', 'mess', 'completely', 'exactly', 'crazy', 'mentally', 'ill', 'mean', 'rich', 'poor', 'horrible', 'exactly', 'confusing', 'clearly', 'many', 'little', 'incredibly', 'stupid', 'pointless', 'boring', 'much', 'slow', 'boring', 'interesting', 'fun', 'little', 'clear', 'good', 'lonely', 'mental', 'firstly', 'nice', 'lonely', 'mentally', 'ill', 'mentally', 'ill', 'victim', 'criminal', 'victim', 'nonviolent', 'becoming', 'terrible', 'best', 'winning', 'desperately', 'stylish', 'charismatic', 'excruciatingly', 'mental', 'tedious', 'much', 'social', 'mental', 'real', 'super', 'long', 'painful', 'serious', 'thrilling', 'many', 'evil', 'dark', 'good', 'usual', 'good', 'evil', 'sorry', 'bad', 'good', 'bad', 'miserable', 'clear', 'clear', 'successful', 'flawless', 'decent', 'heavy', 'choppy', 'poor', 'brilliant', 'wildly', 'heavy', 'mental', 'many', 'whole', 'much', 'light', 'funny', 'mental', 'difficult', 'laugh', 'real', 'mental', 'good', 'great', 'far', 'new', 'better', 'drag', 'secret', 'whole', 'comic', 'absurd', 'kind', 'gladly', 'half', 'boring', 'usual', 'new', 'favorite', 'dark', 'worth', 'satisfying', 'uncomfortable', 'clearly', 'high', 'slowly', 'really', 'comic', 'action', 'slow', 'exactly', 'surely', 'legendary', 'legendary', 'able', 'worth', 'love', 'disturbing', 'much', 'better', 'first', 'pity', 'far', 'better', 'wow', 'honestly', 'best', 'dark', 'wow', 'laugh', 'evil', 'laugh', 'perfectly', 'subtle', 'perfectly', 'shocked', 'half', 'certain', 'experienced', 'true', 'absolutely', 'stunning', 'crushing', 'bad', 'first', 'evil', 'honestly', 'best', 'long', 'best', 'enjoy', 'wild', 'anger', 'satisfying', 'enjoyed', 'pretty', 'fantastic', 'new', 'mesmerizing', 'laugh', 'unique', 'sinister', 'full', 'minor', 'interesting', 'much', 'action', 'dark', 'much', 'bad', 'great', 'action', 'top', 'better', 'particularly', 'exceptional', 'slow', 'satisfying', 'right', 'dark', 'violent', 'super', 'friendly', 'surprised', 'magic', 'stupid', 'least', 'mess', 'old', 'cheesy', 'subtle', 'sinister', 'love', 'worthy', 'amazing', 'amazing', 'marvelous', 'best', 'best', 'best', 'best', 'comic', 'chillingly', 'real', 'remarkable', 'surprised', 'disturbing', 'violent', 'rich', 'talented', 'exaggerated', 'believable', 'much', 'bitter', 'first', 'perfect', 'sound', 'phenomenal', 'far', 'mere', 'main', 'slowly', 'wonderful', 'surely', 'least', 'good', 'main', 'insane', 'insane', 'completely', 'boring', 'better', 'spent', 'mental', 'comic', 'first', 'real', 'weak', 'real', 'high', 'intelligent', 'dangerous', 'due', 'comic', 'comic', 'wow', 'first', 'surprised', 'sure', 'cheesy', 'full', 'fluff', 'unrealistic', 'adult', 'pleasantly', 'surprised', 'superb', 'right', 'excellent', 'comic']\n",
            "           Terms  Freq\n",
            "1           good    53\n",
            "2           best    40\n",
            "3           dark    32\n",
            "4           much    28\n",
            "5           many    28\n",
            "..           ...   ...\n",
            "364    marvelous     1\n",
            "365        spent     1\n",
            "366          due     1\n",
            "367  unrealistic     1\n",
            "368   pleasantly     1\n",
            "\n",
            "[368 rows x 2 columns]\n"
          ],
          "name": "stdout"
        }
      ]
    },
    {
      "cell_type": "markdown",
      "metadata": {
        "id": "pP5yfhAcvqP7"
      },
      "source": [
        "## (2) (10 points) Compare the performance of the following tools in sentiment identification: TextBlob (https://textblob.readthedocs.io/en/dev/), VADER (https://github.com/cjhutto/vaderSentiment), TFIDF-based Support Vector Machine (SVM) (Split your data into training and testing data). Take your own annotation as the standard answers. \n",
        "\n",
        "Reference code: https://towardsdatascience.com/fine-grained-sentiment-analysis-in-python-part-1-2697bb111ed4"
      ]
    },
    {
      "cell_type": "code",
      "metadata": {
        "id": "MQrbR9lUvqP8"
      },
      "source": [
        "# Write your code here\n",
        "def get_sentiments_counts(sentiments):\n",
        "  Negative_value = Positive_value = Neutral_value = 0\n",
        "  for polarity in sentiments:\n",
        "    if polarity < 0:\n",
        "      Negative_value = Negative_value + 1\n",
        "    elif polarity > 0:\n",
        "      Positive_value = Positive_value + 1\n",
        "    elif polarity == 0:\n",
        "      Neutral_value = Neutral_value + 1\n",
        "  return Negative_value, Positive_value, Neutral_value\n",
        "\n",
        "\n",
        "# Your analysis here\n",
        "\n",
        " "
      ],
      "execution_count": 12,
      "outputs": []
    },
    {
      "cell_type": "markdown",
      "metadata": {
        "id": "TikRbdNw5wke"
      },
      "source": [
        "Sentiment Analysis using Text Blob"
      ]
    },
    {
      "cell_type": "code",
      "metadata": {
        "colab": {
          "base_uri": "https://localhost:8080/"
        },
        "id": "d-l9Rvuy5rZu",
        "outputId": "f92def12-3336-4eca-bbe8-f5c23b12ff46"
      },
      "source": [
        "nltk.download('vader_lexicon')\n",
        "from textblob import TextBlob\n",
        "sentiments = []\n",
        "for i in df['Lemmatization']:\n",
        "  sentiments.append(TextBlob(i).sentiment.polarity)\n",
        "Negative_value, Positive_value, Neutral_value = get_sentiments_counts(sentiments)\n",
        "print('Number of Positives - {0}'.format(Positive_value))\n",
        "print('Number of Negatives - {0}'.format(Negative_value))\n",
        "print('Number of Neutrals - {0}'.format(Neutral_value))"
      ],
      "execution_count": 13,
      "outputs": [
        {
          "output_type": "stream",
          "text": [
            "[nltk_data] Downloading package vader_lexicon to /root/nltk_data...\n",
            "Number of Positives - 86\n",
            "Number of Negatives - 18\n",
            "Number of Neutrals - 4\n"
          ],
          "name": "stdout"
        }
      ]
    },
    {
      "cell_type": "markdown",
      "metadata": {
        "id": "-_HGWZ966ChR"
      },
      "source": [
        "VADER\n"
      ]
    },
    {
      "cell_type": "code",
      "metadata": {
        "colab": {
          "base_uri": "https://localhost:8080/"
        },
        "id": "G78Uw7716Am4",
        "outputId": "e0ff230b-9b28-4330-9aac-eaf5602d33cd"
      },
      "source": [
        "from nltk.sentiment.vader import SentimentIntensityAnalyzer\n",
        "vader_analyzer = SentimentIntensityAnalyzer()\n",
        "sentiments = []\n",
        "for i in df['Lemmatization']:\n",
        "  sentiments.append(vader_analyzer.polarity_scores(i)['compound'])\n",
        "Negative_value, Positive_value, Neutral_value = get_sentiments_counts(sentiments)\n",
        "print('Number of Positives - {0}'.format(Positive_value))\n",
        "print('Number of Negatives - {0}'.format(Negative_value))\n",
        "print('Number of Neutrals - {0}'.format(Neutral_value))"
      ],
      "execution_count": 14,
      "outputs": [
        {
          "output_type": "stream",
          "text": [
            "Number of Positives - 78\n",
            "Number of Negatives - 29\n",
            "Number of Neutrals - 1\n"
          ],
          "name": "stdout"
        },
        {
          "output_type": "stream",
          "text": [
            "/usr/local/lib/python3.7/dist-packages/nltk/twitter/__init__.py:20: UserWarning: The twython library has not been installed. Some functionality from the twitter package will not be available.\n",
            "  warnings.warn(\"The twython library has not been installed. \"\n"
          ],
          "name": "stderr"
        }
      ]
    },
    {
      "cell_type": "markdown",
      "metadata": {
        "id": "GWapj4N_6bHI"
      },
      "source": [
        "Using SVM"
      ]
    },
    {
      "cell_type": "code",
      "metadata": {
        "colab": {
          "base_uri": "https://localhost:8080/"
        },
        "id": "0-quAmjo6M8g",
        "outputId": "373a684b-dbe2-4382-afda-6bcce90e931a"
      },
      "source": [
        "\n",
        "from sklearn.model_selection import train_test_split\n",
        "def split_data(x_values, y_values):\n",
        "  return train_test_split(x_values, y_values, test_size=0.33)\n",
        "\n",
        "from sklearn.feature_extraction.text import TfidfVectorizer\n",
        "def get_vector():\n",
        "  return TfidfVectorizer(min_df = 5, max_df = 0.8, sublinear_tf = True, use_idf = True)\n",
        "TfidfVectorizer = get_vector()\n",
        "training_x, testing_x, training_y, testing_y = split_data(df['Lemmatization'], df['Sentiment'])\n",
        "train_vectors = TfidfVectorizer.fit_transform(training_x)\n",
        "test_vectors = TfidfVectorizer.transform(testing_x)\n",
        "from sklearn.metrics import classification_report\n",
        "from sklearn import svm\n",
        "def train_predict_model(train_vectors, test_vectors, training_y):\n",
        "  model = svm.SVC(kernel='linear')\n",
        "  model.fit(train_vectors, training_y)\n",
        "  return model.predict(test_vectors)\n",
        "svm_report = classification_report(testing_y, train_predict_model(train_vectors, test_vectors, training_y), output_dict=True)\n",
        "print('positive Report - ', svm_report['Positive'])\n",
        "print('Negative Report - ', svm_report['Negative'])\n",
        "print(\"Neutral Report - \", svm_report['Neutral'])"
      ],
      "execution_count": 17,
      "outputs": [
        {
          "output_type": "stream",
          "text": [
            "positive Report -  {'precision': 0.6551724137931034, 'recall': 0.8636363636363636, 'f1-score': 0.7450980392156864, 'support': 22}\n",
            "Negative Report -  {'precision': 0.5714285714285714, 'recall': 0.3076923076923077, 'f1-score': 0.4, 'support': 13}\n",
            "Neutral Report -  {'precision': 0.0, 'recall': 0.0, 'f1-score': 0.0, 'support': 1}\n"
          ],
          "name": "stdout"
        },
        {
          "output_type": "stream",
          "text": [
            "/usr/local/lib/python3.7/dist-packages/sklearn/metrics/_classification.py:1272: UndefinedMetricWarning: Precision and F-score are ill-defined and being set to 0.0 in labels with no predicted samples. Use `zero_division` parameter to control this behavior.\n",
            "  _warn_prf(average, modifier, msg_start, len(result))\n"
          ],
          "name": "stderr"
        }
      ]
    },
    {
      "cell_type": "code",
      "metadata": {
        "id": "BG264gDL66IH"
      },
      "source": [
        "\n",
        "def get_actual_sentiment_counts(sentiments):\n",
        "  Negative_value = Positive_value = Neutral_value = 0\n",
        "  for polarity in sentiments:\n",
        "    if polarity == 'Negative':\n",
        "      Negative_value = Negative_value + 1\n",
        "    elif polarity == 'Positive':\n",
        "      Positive_value = Positive_value + 1\n",
        "    elif polarity == 'Neutral':\n",
        "      Neutral_value = Neutral_value + 1\n",
        "  return Negative_value, Positive_value, Neutral_value"
      ],
      "execution_count": 18,
      "outputs": []
    },
    {
      "cell_type": "code",
      "metadata": {
        "colab": {
          "base_uri": "https://localhost:8080/"
        },
        "id": "skC9RYP97A9Q",
        "outputId": "bbd77137-7a86-459a-8210-6ff64aa3855c"
      },
      "source": [
        "Actual_Negative_Value, Actual_Positive_Value, Actual_Neutral_Value = get_actual_sentiment_counts(df['Sentiment'])\n",
        "\n",
        "print('Number of Actual Positives - {0}'.format(Actual_Positive_Value))\n",
        "print('Number of Actual Negatives - {0}'.format(Actual_Negative_Value))\n",
        "print('Number of Actual Neutrals - {0}'.format(Actual_Neutral_Value))"
      ],
      "execution_count": 20,
      "outputs": [
        {
          "output_type": "stream",
          "text": [
            "Number of Actual Positives - 61\n",
            "Number of Actual Negatives - 34\n",
            "Number of Actual Neutrals - 13\n"
          ],
          "name": "stdout"
        }
      ]
    },
    {
      "cell_type": "markdown",
      "metadata": {
        "id": "jmU-khsL7d3u"
      },
      "source": [
        "Overall Results:\n",
        "Number of Actual Positives - 61\n",
        "\n",
        "Number of Actual Negatives - 34\n",
        "\n",
        "Number of Actual Neutrals - 1\n",
        "\n",
        "\n",
        "positive Report -  {'precision': 0.6551724137931034, 'recall': 0.8636363636363636, 'f1-score': 0.7450980392156864, 'support': 22}\n",
        "Negative Report -  {'precision': 0.5714285714285714, 'recall': 0.3076923076923077, 'f1-score': 0.4, 'support': 13}\n",
        "Neutral Report -  {'precision': 0.0, 'recall': 0.0, 'f1-score': 0.0, 'support': 1}\n",
        "\n",
        "VADER:\n",
        "Number of Positives - 78 \n",
        "\n",
        "Number of Negatives - 29\n",
        "\n",
        "Number of Neutrals - 1\n",
        "\n",
        "TEXT BLOB:\n",
        "Number of Positives - 86\n",
        "\n",
        "Number of Negatives - 18\n",
        "\n",
        "Number of Neutrals - 4"
      ]
    },
    {
      "cell_type": "markdown",
      "metadata": {
        "id": "RdBNOI6u9Bfp"
      },
      "source": [
        "From above results , we can say that SVM has better accuracy of polarities when compared to TextBlob and Vader and among TextBlob and Vader, Textblob is better"
      ]
    }
  ]
}