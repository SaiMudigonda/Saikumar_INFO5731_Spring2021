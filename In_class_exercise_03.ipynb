{
  "nbformat": 4,
  "nbformat_minor": 0,
  "metadata": {
    "kernelspec": {
      "display_name": "Python 3",
      "language": "python",
      "name": "python3"
    },
    "language_info": {
      "codemirror_mode": {
        "name": "ipython",
        "version": 3
      },
      "file_extension": ".py",
      "mimetype": "text/x-python",
      "name": "python",
      "nbconvert_exporter": "python",
      "pygments_lexer": "ipython3",
      "version": "3.7.4"
    },
    "colab": {
      "name": "In-class-exercise-03.ipynb",
      "provenance": [],
      "include_colab_link": true
    }
  },
  "cells": [
    {
      "cell_type": "markdown",
      "metadata": {
        "id": "view-in-github",
        "colab_type": "text"
      },
      "source": [
        "<a href=\"https://colab.research.google.com/github/SaiMudigonda/Saikumar_INFO5731_Spring2021/blob/main/In_class_exercise_03.ipynb\" target=\"_parent\"><img src=\"https://colab.research.google.com/assets/colab-badge.svg\" alt=\"Open In Colab\"/></a>"
      ]
    },
    {
      "cell_type": "markdown",
      "metadata": {
        "id": "ItPJlKGK4Tgg"
      },
      "source": [
        "## The third In-class-exercise (9/16/2020, 20 points in total)"
      ]
    },
    {
      "cell_type": "markdown",
      "metadata": {
        "id": "xuNie_MU4Tgk"
      },
      "source": [
        "The purpose of this exercise is to under users' information needs, then collect the data for analysis."
      ]
    },
    {
      "cell_type": "markdown",
      "metadata": {
        "id": "R1FtefnI4Tgm"
      },
      "source": [
        "Question 1 (8 points): Describe an interesting research question (or practical question) you have in mind, what kind of data should be collected to answer the question(s)? How many data needed for the analysis? The detail steps for collecting and save the data. "
      ]
    },
    {
      "cell_type": "code",
      "metadata": {
        "id": "XY4LV0nJ4Tgn"
      },
      "source": [
        "# Your answer here (no code for this question, write down your answer as detail as possible for the above questions):\n",
        "\n",
        "'''\n",
        "Please write you answer here:\n",
        "\n",
        "I'm very interested in samsung devices.I wanteed to see the latest \"Samsung mobiles ratings\". So all can get to know how much it rated for a particular product at a single place. \n",
        "It consists of huge data which is more than 500.\n",
        "\n",
        "These are the steps followed by me:\n",
        "\n",
        "I have  used beautiful soup to parse the data from the website\n",
        "ratings are extrated by using the classname.\n",
        "Class names are appended to empty list.append\n",
        "I have used url directly to extract the ratings of more than 500.\n",
        "\n",
        "\n",
        "\n",
        "'''"
      ],
      "execution_count": null,
      "outputs": []
    },
    {
      "cell_type": "markdown",
      "metadata": {
        "id": "mGxb0qKJ4Tgo"
      },
      "source": [
        "Question 2 (12 points): Write python code to collect 500 items of the data you plan to collect above."
      ]
    },
    {
      "cell_type": "code",
      "metadata": {
        "colab": {
          "base_uri": "https://localhost:8080/",
          "height": 402
        },
        "id": "cDkVAZsj4Tgp",
        "outputId": "a2b7c653-65e9-40f6-8d89-da5fcc13f61d"
      },
      "source": [
        "# You code here (Please add comments in the code):\n",
        "\n",
        "import requests\n",
        "from bs4 import BeautifulSoup\n",
        "import pandas as pd\n",
        "Main_data = [] \n",
        "Sub_data =[] \n",
        "for number in range(25):\n",
        "  # Giving link directly\n",
        "  link = \"https://www.flipkart.com/search?q=samsung&otracker=search&otracker1=search&marketplace=FLIPKART&as-show=on&as=off\" + str(number)\n",
        "# Webpage Accessing\n",
        "  web_page = requests.get(link) \n",
        "  soup = BeautifulSoup(web_page.text, 'html.parser')\n",
        "\n",
        "  # To get Product name by using the class name\n",
        "  product_name = soup.find_all(class_='_4rR01T') \n",
        "\n",
        "  # To get the Product rating by using the class name\n",
        "  product_rating = soup.find_all(class_='_3LWZlK') \n",
        "\n",
        "  # Iterating through the list\n",
        "  for ele, sub_ele in zip(product_name, product_rating) : \n",
        "      Main_data.append(ele.text) \n",
        "      Sub_data.append(sub_ele.text)\n",
        "      \n",
        "      # dataframe for products\n",
        "df = pd.DataFrame(list(zip(Main_data, Sub_data)), columns =['Product Name', 'Rating'])  \n",
        "df\n"
      ],
      "execution_count": 2,
      "outputs": [
        {
          "output_type": "execute_result",
          "data": {
            "text/html": [
              "<div>\n",
              "<style scoped>\n",
              "    .dataframe tbody tr th:only-of-type {\n",
              "        vertical-align: middle;\n",
              "    }\n",
              "\n",
              "    .dataframe tbody tr th {\n",
              "        vertical-align: top;\n",
              "    }\n",
              "\n",
              "    .dataframe thead th {\n",
              "        text-align: right;\n",
              "    }\n",
              "</style>\n",
              "<table border=\"1\" class=\"dataframe\">\n",
              "  <thead>\n",
              "    <tr style=\"text-align: right;\">\n",
              "      <th></th>\n",
              "      <th>Product Name</th>\n",
              "      <th>Rating</th>\n",
              "    </tr>\n",
              "  </thead>\n",
              "  <tbody>\n",
              "    <tr>\n",
              "      <th>0</th>\n",
              "      <td>Samsung Galaxy F41 (Fusion Blue, 128 GB)</td>\n",
              "      <td>4.3</td>\n",
              "    </tr>\n",
              "    <tr>\n",
              "      <th>1</th>\n",
              "      <td>Samsung Galaxy F41 (Fusion Blue, 64 GB)</td>\n",
              "      <td>4.3</td>\n",
              "    </tr>\n",
              "    <tr>\n",
              "      <th>2</th>\n",
              "      <td>Samsung Galaxy F41 (Fusion Green, 128 GB)</td>\n",
              "      <td>4.3</td>\n",
              "    </tr>\n",
              "    <tr>\n",
              "      <th>3</th>\n",
              "      <td>Samsung Galaxy F41 (Fusion Black, 128 GB)</td>\n",
              "      <td>4.3</td>\n",
              "    </tr>\n",
              "    <tr>\n",
              "      <th>4</th>\n",
              "      <td>Samsung Galaxy M21 (Midnight Blue, 64 GB)</td>\n",
              "      <td>4.3</td>\n",
              "    </tr>\n",
              "    <tr>\n",
              "      <th>...</th>\n",
              "      <td>...</td>\n",
              "      <td>...</td>\n",
              "    </tr>\n",
              "    <tr>\n",
              "      <th>595</th>\n",
              "      <td>Samsung Metro 313 Dual Sim</td>\n",
              "      <td>4.3</td>\n",
              "    </tr>\n",
              "    <tr>\n",
              "      <th>596</th>\n",
              "      <td>Samsung Guru FM Plus SM-B110E/D</td>\n",
              "      <td>4.3</td>\n",
              "    </tr>\n",
              "    <tr>\n",
              "      <th>597</th>\n",
              "      <td>Samsung Guru FM Plus SM-B110E/D</td>\n",
              "      <td>4.3</td>\n",
              "    </tr>\n",
              "    <tr>\n",
              "      <th>598</th>\n",
              "      <td>Samsung Galaxy M31 (Space Black, 128 GB)</td>\n",
              "      <td>4.3</td>\n",
              "    </tr>\n",
              "    <tr>\n",
              "      <th>599</th>\n",
              "      <td>Samsung Guru FM Plus</td>\n",
              "      <td>4.2</td>\n",
              "    </tr>\n",
              "  </tbody>\n",
              "</table>\n",
              "<p>600 rows × 2 columns</p>\n",
              "</div>"
            ],
            "text/plain": [
              "                                  Product Name Rating\n",
              "0     Samsung Galaxy F41 (Fusion Blue, 128 GB)    4.3\n",
              "1      Samsung Galaxy F41 (Fusion Blue, 64 GB)    4.3\n",
              "2    Samsung Galaxy F41 (Fusion Green, 128 GB)    4.3\n",
              "3    Samsung Galaxy F41 (Fusion Black, 128 GB)    4.3\n",
              "4    Samsung Galaxy M21 (Midnight Blue, 64 GB)    4.3\n",
              "..                                         ...    ...\n",
              "595                 Samsung Metro 313 Dual Sim    4.3\n",
              "596            Samsung Guru FM Plus SM-B110E/D    4.3\n",
              "597            Samsung Guru FM Plus SM-B110E/D    4.3\n",
              "598   Samsung Galaxy M31 (Space Black, 128 GB)    4.3\n",
              "599                       Samsung Guru FM Plus    4.2\n",
              "\n",
              "[600 rows x 2 columns]"
            ]
          },
          "metadata": {
            "tags": []
          },
          "execution_count": 2
        }
      ]
    }
  ]
}